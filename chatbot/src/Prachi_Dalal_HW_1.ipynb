{
 "cells": [
  {
   "cell_type": "markdown",
   "id": "Q4vVUgxxDJD0",
   "metadata": {
    "id": "Q4vVUgxxDJD0"
   },
   "source": [
    "# <font color = dodgerred>**HW1 - 15 Points** </font>\n",
    "- **You have to submit two files for this part of the HW**\n",
    "  >(1) ipynb (colab notebook) and<br>\n",
    "  >(2) pdf file (pdf version of the colab file).**\n",
    "- **Files should be named as follows**:\n",
    ">FirstName_LastName_HW_1**\n"
   ]
  },
  {
   "cell_type": "code",
   "execution_count": 1,
   "id": "IsWkg1CufBwg",
   "metadata": {
    "id": "IsWkg1CufBwg"
   },
   "outputs": [],
   "source": [
    "import torch\n",
    "import time"
   ]
  },
  {
   "cell_type": "markdown",
   "id": "2Voz6l5RUZRh",
   "metadata": {
    "id": "2Voz6l5RUZRh"
   },
   "source": [
    "# <font color = dodgerred>**Q1 : Create Tensor (1/2 Point)**\n",
    " Create a torch Tensor of shape (5, 3) which is filled with zeros. Modify the tensor to set element (0, 2) to 10 and element (2, 0)  to 100."
   ]
  },
  {
   "cell_type": "code",
   "execution_count": 2,
   "id": "bI9MwTaamhis",
   "metadata": {
    "colab": {
     "base_uri": "https://localhost:8080/"
    },
    "id": "bI9MwTaamhis",
    "outputId": "f165fca0-2c0a-40e3-dcda-f0c2a62ae425"
   },
   "outputs": [
    {
     "name": "stdout",
     "output_type": "stream",
     "text": [
      "tensor([[0, 0, 0],\n",
      "        [0, 0, 0],\n",
      "        [0, 0, 0],\n",
      "        [0, 0, 0],\n",
      "        [0, 0, 0]])\n"
     ]
    }
   ],
   "source": [
    "#Create a torch Tensor of shape (5, 3) which is filled with zeros.\n",
    "my_tensor = torch.tensor([\n",
    "    [0,0,0],[0,0,0],[0,0,0],[0,0,0],[0,0,0]\n",
    "    ])\n",
    "\n",
    "print(my_tensor)"
   ]
  },
  {
   "cell_type": "code",
   "execution_count": 3,
   "id": "VOfb55nMVUM4",
   "metadata": {
    "id": "VOfb55nMVUM4"
   },
   "outputs": [],
   "source": [
    "#Modify the tensor to set element (0, 2) to 10 and element (2, 0) to 100.\n",
    "my_tensor[0,2] = 10\n",
    "my_tensor[2,0] = 1000"
   ]
  },
  {
   "cell_type": "code",
   "execution_count": 4,
   "id": "7QEV2uq-yqZK",
   "metadata": {
    "colab": {
     "base_uri": "https://localhost:8080/"
    },
    "id": "7QEV2uq-yqZK",
    "outputId": "4acd8916-21fc-456d-e593-09f3aa5fd1f9"
   },
   "outputs": [
    {
     "data": {
      "text/plain": [
       "torch.Size([5, 3])"
      ]
     },
     "execution_count": 4,
     "metadata": {},
     "output_type": "execute_result"
    }
   ],
   "source": [
    "my_tensor.shape"
   ]
  },
  {
   "cell_type": "code",
   "execution_count": 5,
   "id": "yAxzhRVGyr6c",
   "metadata": {
    "colab": {
     "base_uri": "https://localhost:8080/"
    },
    "id": "yAxzhRVGyr6c",
    "outputId": "e2ba52a5-7707-4416-df95-6797827f0367"
   },
   "outputs": [
    {
     "data": {
      "text/plain": [
       "tensor([[   0,    0,   10],\n",
       "        [   0,    0,    0],\n",
       "        [1000,    0,    0],\n",
       "        [   0,    0,    0],\n",
       "        [   0,    0,    0]])"
      ]
     },
     "execution_count": 5,
     "metadata": {},
     "output_type": "execute_result"
    }
   ],
   "source": [
    "my_tensor"
   ]
  },
  {
   "cell_type": "code",
   "execution_count": 6,
   "id": "FCM4GuyWylQV",
   "metadata": {
    "id": "FCM4GuyWylQV"
   },
   "outputs": [],
   "source": [
    "# Manually set the value at the first row and third column to 10,\n",
    "# and the value at the third row and first column to 100 in the tensor named \"my_tensor\".\n",
    "my_tensor = torch.tensor([\n",
    "    [0,0,10],[0,0,0],[100,0,0],[0,0,0],[0,0,0]\n",
    "    ])"
   ]
  },
  {
   "cell_type": "code",
   "execution_count": 7,
   "id": "ZdEftwuPyyx9",
   "metadata": {
    "colab": {
     "base_uri": "https://localhost:8080/"
    },
    "id": "ZdEftwuPyyx9",
    "outputId": "73025899-3be4-4da0-f84b-9921c07b6990"
   },
   "outputs": [
    {
     "data": {
      "text/plain": [
       "tensor([[  0,   0,  10],\n",
       "        [  0,   0,   0],\n",
       "        [100,   0,   0],\n",
       "        [  0,   0,   0],\n",
       "        [  0,   0,   0]])"
      ]
     },
     "execution_count": 7,
     "metadata": {},
     "output_type": "execute_result"
    }
   ],
   "source": [
    "my_tensor"
   ]
  },
  {
   "cell_type": "markdown",
   "id": "6Eoa6rF80ZTa",
   "metadata": {
    "id": "6Eoa6rF80ZTa"
   },
   "source": [
    "# <font color = dodgerred>**Q2: Reshape tensor (1/2 Point)**\n",
    "You have following tensor as input:\n",
    "\n",
    "```x=torch.tensor([0, 1, 2, 3, 4, 5, 6, 7, 8, 9, 10, 11, 12, 13, 14, 15, 16, 17, 18, 19, 20, 21, 22, 23])```\n",
    "\n",
    "Using only reshaping functions (like view, reshape, transpose, permute), you need to get at the following tensor as output:\n",
    "\n",
    "```\n",
    "tensor([[ 0,  4,  8, 12, 16, 20],\n",
    "        [ 1,  5,  9, 13, 17, 21],\n",
    "        [ 2,  6, 10, 14, 18, 22],\n",
    "        [ 3,  7, 11, 15, 19, 23]])\n",
    "```\n",
    "\n"
   ]
  },
  {
   "cell_type": "code",
   "execution_count": 9,
   "id": "LDBQ6kYZ-JRV",
   "metadata": {
    "id": "LDBQ6kYZ-JRV"
   },
   "outputs": [],
   "source": [
    "x=torch.tensor([0, 1, 2, 3, 4, 5, 6, 7, 8, 9, 10, 11, 12, 13, 14, 15, 16, 17, 18, 19, 20, 21, 22, 23])"
   ]
  },
  {
   "cell_type": "code",
   "execution_count": 10,
   "id": "b6_SdFS-ke_x",
   "metadata": {
    "colab": {
     "base_uri": "https://localhost:8080/"
    },
    "id": "b6_SdFS-ke_x",
    "outputId": "16e9e826-3350-4143-dfd3-af46d69170ea"
   },
   "outputs": [
    {
     "data": {
      "text/plain": [
       "tensor([[ 0,  4,  8, 12, 16, 20],\n",
       "        [ 1,  5,  9, 13, 17, 21],\n",
       "        [ 2,  6, 10, 14, 18, 22],\n",
       "        [ 3,  7, 11, 15, 19, 23]])"
      ]
     },
     "execution_count": 10,
     "metadata": {},
     "output_type": "execute_result"
    }
   ],
   "source": [
    "x = x.reshape(6,4).transpose(0,1)\n",
    "x"
   ]
  },
  {
   "cell_type": "markdown",
   "id": "dnw5qi7A4ysc",
   "metadata": {
    "id": "dnw5qi7A4ysc"
   },
   "source": [
    "# <font color = dodgerred>**Q3: Slice tensor (1Point)**\n",
    "\n",
    "- Slice the tensor x to get the following\n",
    ">- last row of x\n",
    ">- fourth column of x\n",
    ">- first three rows and first two columns - the shape of subtensor should be (3,2)\n",
    ">- odd valued rows and columns"
   ]
  },
  {
   "cell_type": "code",
   "execution_count": 11,
   "id": "STbUdF0J5IBD",
   "metadata": {
    "colab": {
     "base_uri": "https://localhost:8080/"
    },
    "id": "STbUdF0J5IBD",
    "outputId": "7f6f6444-39d1-408b-f248-1133775d77f6"
   },
   "outputs": [
    {
     "data": {
      "text/plain": [
       "tensor([[ 1,  2,  3,  4,  5],\n",
       "        [ 6,  7,  8,  8, 10],\n",
       "        [11, 12, 13, 14, 15]])"
      ]
     },
     "execution_count": 11,
     "metadata": {},
     "output_type": "execute_result"
    }
   ],
   "source": [
    "x = torch.tensor([[1, 2, 3, 4, 5], [6, 7, 8, 8, 10], [11, 12, 13, 14, 15]])\n",
    "x"
   ]
  },
  {
   "cell_type": "code",
   "execution_count": 12,
   "id": "mgHPm0qP5ZU3",
   "metadata": {
    "colab": {
     "base_uri": "https://localhost:8080/"
    },
    "id": "mgHPm0qP5ZU3",
    "outputId": "baabebc6-4a42-4f27-8929-51d15e17aef9"
   },
   "outputs": [
    {
     "data": {
      "text/plain": [
       "torch.Size([3, 5])"
      ]
     },
     "execution_count": 12,
     "metadata": {},
     "output_type": "execute_result"
    }
   ],
   "source": [
    "x.shape"
   ]
  },
  {
   "cell_type": "code",
   "execution_count": 13,
   "id": "hzQRs79A5JGd",
   "metadata": {
    "colab": {
     "base_uri": "https://localhost:8080/"
    },
    "id": "hzQRs79A5JGd",
    "outputId": "8146cf74-237e-45f6-f84a-be9a3828a20e"
   },
   "outputs": [
    {
     "data": {
      "text/plain": [
       "tensor([11, 12, 13, 14, 15])"
      ]
     },
     "execution_count": 13,
     "metadata": {},
     "output_type": "execute_result"
    }
   ],
   "source": [
    "# Student Task: Retrieve the last row of the tensor 'x'\n",
    "# Hint: Negative indexing can help you select rows or columns counting from the end of the tensor.\n",
    "# Think about how you can select all columns for the desired row.\n",
    "last_row = x[-1]\n",
    "last_row"
   ]
  },
  {
   "cell_type": "code",
   "execution_count": 14,
   "id": "-mb_Et866ZEW",
   "metadata": {
    "colab": {
     "base_uri": "https://localhost:8080/"
    },
    "id": "-mb_Et866ZEW",
    "outputId": "05345598-a856-40c4-d27c-6f982b810c8b"
   },
   "outputs": [
    {
     "data": {
      "text/plain": [
       "tensor([ 4,  8, 14])"
      ]
     },
     "execution_count": 14,
     "metadata": {},
     "output_type": "execute_result"
    }
   ],
   "source": [
    "# Student Task: Retrieve the fourth column of the tensor 'x'\n",
    "# Hint: Pay attention to the indexing for both rows and columns.\n",
    "# Remember that indexing in Python starts from zero.\n",
    "fourth_column = x[ :,3]\n",
    "fourth_column"
   ]
  },
  {
   "cell_type": "code",
   "execution_count": 16,
   "id": "c2VaG6Y16jsA",
   "metadata": {
    "colab": {
     "base_uri": "https://localhost:8080/"
    },
    "id": "c2VaG6Y16jsA",
    "outputId": "2aa7ba3d-b673-41dd-ab61-6cb51762fc0c"
   },
   "outputs": [
    {
     "data": {
      "text/plain": [
       "tensor([[ 1,  2],\n",
       "        [ 6,  7],\n",
       "        [11, 12]])"
      ]
     },
     "execution_count": 16,
     "metadata": {},
     "output_type": "execute_result"
    }
   ],
   "source": [
    "# Student Task: Retrieve the first 3 rows and first 2 columns from the tensor 'x'.\n",
    "# Hint: Use slicing to extract the required subset of rows and columns.\n",
    "first_3_rows_2_columns = x[:3, :2]\n",
    "first_3_rows_2_columns"
   ]
  },
  {
   "cell_type": "code",
   "execution_count": 17,
   "id": "RHnSUpxs7O82",
   "metadata": {
    "colab": {
     "base_uri": "https://localhost:8080/"
    },
    "id": "RHnSUpxs7O82",
    "outputId": "0b0c6f55-5c95-4859-d873-2e96fa1e88b6"
   },
   "outputs": [
    {
     "data": {
      "text/plain": [
       "tensor([[ 1,  3,  5],\n",
       "        [11, 13, 15]])"
      ]
     },
     "execution_count": 17,
     "metadata": {},
     "output_type": "execute_result"
    }
   ],
   "source": [
    "# Student Task: Retrieve the rows and columns with odd-indexed positions from the tensor 'x'.\n",
    "# Hint: Use stride slicing to extract the required subset of rows and columns with odd indices.\n",
    "odd_valued_rows_columns = x[::2, ::2]\n",
    "odd_valued_rows_columns"
   ]
  },
  {
   "cell_type": "markdown",
   "id": "uSj20OEuf6bf",
   "metadata": {
    "id": "uSj20OEuf6bf"
   },
   "source": [
    "#  <font color = dodgerred>**Q4 -Normalize Function (1/2 Points)**<font>\n",
    "\n",
    "Write the function that normalizes the columns of a matrix. You have to compute the mean and standard deviation of each column. Then for each element of the column, you subtract the mean and divide by the standard deviation."
   ]
  },
  {
   "cell_type": "code",
   "execution_count": 18,
   "id": "8L9JBFNilkWt",
   "metadata": {
    "id": "8L9JBFNilkWt"
   },
   "outputs": [],
   "source": [
    "# Given Data\n",
    "x = [[ 3,  60,  100, -100],\n",
    "     [ 2,  20,  600, -600],\n",
    "     [-5,  50,  900, -900]]"
   ]
  },
  {
   "cell_type": "code",
   "execution_count": 19,
   "id": "iRrhopVBl-0q",
   "metadata": {
    "id": "iRrhopVBl-0q"
   },
   "outputs": [],
   "source": [
    "# Convert to PyTorch Tensor and set to float\n",
    "X = torch.tensor(x)\n",
    "X = X.float()"
   ]
  },
  {
   "cell_type": "code",
   "execution_count": 20,
   "id": "S2MaocHxmEQJ",
   "metadata": {
    "colab": {
     "base_uri": "https://localhost:8080/"
    },
    "id": "S2MaocHxmEQJ",
    "outputId": "be4063f9-7880-42bd-fc1c-0fe6906e451c"
   },
   "outputs": [
    {
     "name": "stdout",
     "output_type": "stream",
     "text": [
      "torch.Size([3, 4])\n",
      "torch.float32\n"
     ]
    }
   ],
   "source": [
    "# Print shape and data type for verification\n",
    "print(X.shape)\n",
    "print(X.dtype)"
   ]
  },
  {
   "cell_type": "code",
   "execution_count": 21,
   "id": "rPgb1L9RmQAU",
   "metadata": {
    "colab": {
     "base_uri": "https://localhost:8080/"
    },
    "id": "rPgb1L9RmQAU",
    "outputId": "add7ff93-eb41-42cf-ba1d-aafb455e8d5f"
   },
   "outputs": [
    {
     "name": "stdout",
     "output_type": "stream",
     "text": [
      "tensor([   0.0000,   43.3333,  533.3333, -533.3333])\n",
      "tensor([  4.3589,  20.8167, 404.1452, 404.1452])\n"
     ]
    }
   ],
   "source": [
    "# Compute and display the mean and standard deviation of each column for reference\n",
    "print(X.mean(axis = 0))\n",
    "print(X.std(axis = 0))"
   ]
  },
  {
   "cell_type": "markdown",
   "id": "Yy2hehDnJHOq",
   "metadata": {
    "id": "Yy2hehDnJHOq"
   },
   "source": [
    "- Your task starts here\n",
    "- Your normalize_matrix function should take a PyTorch tensor x as input.\n",
    "- It should return a tensor where the columns are normalized.\n",
    "- After implementing your function, use the code provided to verify if the mean for each column in Z is close to zero and the standard deviation is 1."
   ]
  },
  {
   "cell_type": "code",
   "execution_count": 22,
   "id": "mwq8qnqFlu9V",
   "metadata": {
    "id": "mwq8qnqFlu9V"
   },
   "outputs": [],
   "source": [
    "def normalize_matrix(X):\n",
    "  # Calculate the mean along each column (think carefully , you will take mean along axis = 0 or 1)\n",
    "  mean = X.mean(axis = 0)\n",
    "\n",
    "  # Calculate the standard deviation along each column\n",
    "  std = X.std(axis = 0)\n",
    "\n",
    "  # Normalize each element in the columns by subtracting the mean and dividing by the standard deviation\n",
    "  y = (X - mean) / std\n",
    "\n",
    "  return y  # Return the normalized matrix"
   ]
  },
  {
   "cell_type": "code",
   "execution_count": 23,
   "id": "m027Qcgwm9OL",
   "metadata": {
    "colab": {
     "base_uri": "https://localhost:8080/"
    },
    "id": "m027Qcgwm9OL",
    "outputId": "f61429e3-cb16-4c27-e75f-0ed4a43ed40a"
   },
   "outputs": [
    {
     "data": {
      "text/plain": [
       "tensor([[ 0.6882,  0.8006, -1.0722,  1.0722],\n",
       "        [ 0.4588, -1.1209,  0.1650, -0.1650],\n",
       "        [-1.1471,  0.3203,  0.9073, -0.9073]])"
      ]
     },
     "execution_count": 23,
     "metadata": {},
     "output_type": "execute_result"
    }
   ],
   "source": [
    "Z = normalize_matrix(X)\n",
    "Z"
   ]
  },
  {
   "cell_type": "code",
   "execution_count": 24,
   "id": "3VoYTGNRFC6_",
   "metadata": {
    "colab": {
     "base_uri": "https://localhost:8080/"
    },
    "id": "3VoYTGNRFC6_",
    "outputId": "9076e24f-7867-4a45-eeb2-22ff893009f7"
   },
   "outputs": [
    {
     "name": "stdout",
     "output_type": "stream",
     "text": [
      "tensor([ 0.0000e+00,  4.9671e-08,  3.9736e-08, -3.9736e-08])\n",
      "tensor([1., 1., 1., 1.])\n"
     ]
    }
   ],
   "source": [
    "print(Z.mean(axis=0))\n",
    "print(Z.std(axis=0))"
   ]
  },
  {
   "cell_type": "markdown",
   "id": "cc32848b",
   "metadata": {
    "id": "cc32848b"
   },
   "source": [
    "# <font color = 'dodgerred'>**Q5: In-place vs. Out-of-place Operations (1 Point)**\n",
    "\n",
    "1. Create a tensor `A` with values `[1, 2, 3]`.\n",
    "2. Perform an in-place addition (use `add_` method) of `5` to tensor `A`.\n",
    "3. Then, create another tensor `B` with values `[4, 5, 6]` and perform an out-of-place addition of `5`.\n",
    "\n",
    "**Print the memory addresses of `A` and `B` before and after the operations to demonstrate the difference in memory usage. Provide explanation**\n"
   ]
  },
  {
   "cell_type": "code",
   "execution_count": 25,
   "id": "19b3aaa5",
   "metadata": {
    "colab": {
     "base_uri": "https://localhost:8080/"
    },
    "id": "19b3aaa5",
    "outputId": "9838d1c0-68ab-4535-8b77-b7881d4bf93e"
   },
   "outputs": [
    {
     "name": "stdout",
     "output_type": "stream",
     "text": [
      "Original memory address of A: 134670715529200\n",
      "Memory address of A after in-place addition: 134670715529200\n",
      "A after in-place addition: tensor([6, 7, 8])\n",
      "Original memory address of B: 134670715257936\n",
      "Memory address of B after out-of-place addition: 134673856499120\n",
      "B after out-of-place addition: tensor([ 9, 10, 11])\n"
     ]
    }
   ],
   "source": [
    "#use id() function to get memory location of tensor\n",
    "A = torch.tensor([1, 2, 3])\n",
    "print('Original memory address of A:', id(A))\n",
    "A.add_(5)\n",
    "print('Memory address of A after in-place addition:', id(A))\n",
    "print('A after in-place addition:', A)\n",
    "\n",
    "B = torch.tensor([4, 5, 6])\n",
    "print('Original memory address of B:', id(B))\n",
    "y = B\n",
    "torch.cuda.synchronize()\n",
    "start_memory = torch.cuda.memory_allocated()\n",
    "B = B + 5\n",
    "print('Memory address of B after out-of-place addition:', id(B))\n",
    "print('B after out-of-place addition:', B)\n"
   ]
  },
  {
   "cell_type": "markdown",
   "id": "aXi2TsYVElqy",
   "metadata": {
    "id": "aXi2TsYVElqy"
   },
   "source": [
    "**Provide Explanation for above question here : The memory address of tensor A stayed the same because the operation modify the original tensor without creating a new one. On the other hand, out-of-place addition creates a new tensor \"B\" that has a different memory address than the original. It is not a problem that the new tensor has the same name as the original one because the contents of the original tensor are stored in y. **\n",
    "\n"
   ]
  },
  {
   "cell_type": "markdown",
   "id": "f57bb1a4",
   "metadata": {
    "id": "f57bb1a4"
   },
   "source": [
    "# <font color = 'dodgerred'>**Q6: Tensor Broadcasting (1 Point)**\n",
    "\n",
    "1. Create two tensors `X` with shape `(3, 1)` and `Y` with shape `(1, 3)`. Perform an addition operation on `X` and `Y`.\n",
    "2. Explain how broadcasting is applied in this operation by describing the shape changes that occur internally."
   ]
  },
  {
   "cell_type": "code",
   "execution_count": 26,
   "id": "699f9bd9",
   "metadata": {
    "colab": {
     "base_uri": "https://localhost:8080/"
    },
    "id": "699f9bd9",
    "outputId": "d2e0aef5-cead-47dd-81c7-c3bdcbfc334b"
   },
   "outputs": [
    {
     "name": "stdout",
     "output_type": "stream",
     "text": [
      "Original shapes: torch.Size([3, 1]) torch.Size([1, 3])\n",
      "Result: tensor([[0, 1, 2],\n",
      "        [1, 2, 3],\n",
      "        [2, 3, 4]])\n",
      "Result shape: torch.Size([3, 3])\n"
     ]
    }
   ],
   "source": [
    "X = torch.arange(0,3).reshape(3,1)\n",
    "Y = torch.arange(0,3).reshape(1,3)\n",
    "print('Original shapes:', X.shape, Y.shape)\n",
    "result = X + Y\n",
    "print('Result:', result)\n",
    "print('Result shape:', result.shape)\n"
   ]
  },
  {
   "cell_type": "markdown",
   "id": "IblSVvPhE4-E",
   "metadata": {
    "id": "IblSVvPhE4-E"
   },
   "source": [
    "**Provide Explanation for above question here : A Shape change needs to occur to ensure the two tensors are compatible for addition. The dimension that is smaller is \"broadcasted\" to match the larger dimension. X & Y are both broadcasted to the dimension of (3,3, which is why the result also has the dimension of (3,3).**\n",
    "\n"
   ]
  },
  {
   "cell_type": "markdown",
   "id": "e1f2667e",
   "metadata": {
    "id": "e1f2667e"
   },
   "source": [
    "# <font color = 'dodgerred'>**Q7: Linear Algebra Operations (1 Point)**\n",
    "\n",
    "1. Create two matrices `M1` and `M2` of compatible shapes for matrix multiplication. Perform the multiplication and print the result.\n",
    "2. Then, create two vectors `V1` and `V2` and compute their dot product.\n"
   ]
  },
  {
   "cell_type": "code",
   "execution_count": 27,
   "id": "d45aed18",
   "metadata": {
    "colab": {
     "base_uri": "https://localhost:8080/"
    },
    "id": "d45aed18",
    "outputId": "519ce4ba-46ff-4c0c-dafa-10355990b63c"
   },
   "outputs": [
    {
     "name": "stdout",
     "output_type": "stream",
     "text": [
      "Matrix multiplication result: tensor([[ 0.0430,  0.8662,  1.0144,  0.0190, -0.4099],\n",
      "        [ 0.2201, -3.0339, -0.3690, -0.3636,  0.5808],\n",
      "        [-0.1147,  1.9888, -0.1893, -0.5311, -1.0296]])\n",
      "tensor([ 0.4935, -0.9602,  0.0162, -0.3113, -1.7333])\n",
      "tensor([ 1.0425,  0.1970,  1.0115,  0.8756, -0.0011])\n",
      "Dot product: tensor(0.0710)\n"
     ]
    }
   ],
   "source": [
    "M1 = torch.randn(3,4)\n",
    "M2 = torch.randn(4,5)\n",
    "mat_multiplication =  torch.mm(M1,M2)\n",
    "print('Matrix multiplication result:', mat_multiplication)\n",
    "\n",
    "V1 = torch.randn(5)\n",
    "V2 = torch.randn(5)\n",
    "dot_product = torch.dot(V1,V2)\n",
    "print(V1)\n",
    "print(V2)\n",
    "print('Dot product:', dot_product)\n"
   ]
  },
  {
   "cell_type": "markdown",
   "id": "fe24a961",
   "metadata": {
    "id": "fe24a961"
   },
   "source": [
    "# <font color = 'dodgerred'>**Q8: Manipulating Tensor Shapes (1 Point)**\n",
    "\n",
    "Given a tensor `T` with shape `(2, 3, 4)`, demonstrate how to\n",
    "1. reshape it to `(3, 8)` using view,\n",
    "2. reshape it to `(4, 2, 3` using reshape,\n",
    "3. transpose the first and last dimensions using permute.\n",
    "4. explain what is the difference between reshape and view"
   ]
  },
  {
   "cell_type": "code",
   "execution_count": 28,
   "id": "0644b861",
   "metadata": {
    "colab": {
     "base_uri": "https://localhost:8080/"
    },
    "id": "0644b861",
    "outputId": "d6c499ab-6e9a-4ccb-cfb1-5e8c3cf96f4e"
   },
   "outputs": [
    {
     "name": "stdout",
     "output_type": "stream",
     "text": [
      "T_view shape: torch.Size([3, 8])\n",
      "T_reshape shape: torch.Size([4, 2, 3])\n",
      "T_permute shape: torch.Size([4, 3, 2])\n"
     ]
    }
   ],
   "source": [
    "T = torch.rand(2, 3, 4)\n",
    "T_view =  T.view(3,8)\n",
    "print('T_view shape:', T_view.shape)\n",
    "\n",
    "T_reshape =  T.reshape(4,2,3)\n",
    "print('T_reshape shape:', T_reshape.shape)\n",
    "\n",
    "T_permute =  T.permute(2,1,0)\n",
    "print('T_permute shape:', T_permute.shape)"
   ]
  },
  {
   "cell_type": "markdown",
   "id": "Lb-861xsFXHN",
   "metadata": {
    "id": "Lb-861xsFXHN"
   },
   "source": [
    "**Provide Explanation for above question here : View performs the same task as reshape, however, it will not create a copy and will instead share data with the original tensor. On the other hand reshape returns a tensor that is a copy of the input. Additionally, reshape can be used on contigious and non-contiguous tensors whereas view can only be used on contiguous tensors. These are tensors that are stored as an unbroken block of memory.**\n",
    "\n"
   ]
  },
  {
   "cell_type": "markdown",
   "id": "1d5c7b62",
   "metadata": {
    "id": "1d5c7b62"
   },
   "source": [
    "# <font color = 'dodgerred'>**Q9: Tensor Concatenation and Stacking (1 Point)**\n",
    "\n",
    "Create tensors `C1` and `C2` both with shape (2, 3).\n",
    "1. Concatenate them along dimension 0 and then along dimension 1. Print the shape of the resulting tensor.\n",
    "2. Afterwards, stack the same tensors alomng dimension 0  and print the shape of the resulting tensor.\n",
    "3. What is the difference between stacking and concatinating."
   ]
  },
  {
   "cell_type": "code",
   "execution_count": 29,
   "id": "69e2f7e0",
   "metadata": {
    "colab": {
     "base_uri": "https://localhost:8080/"
    },
    "id": "69e2f7e0",
    "outputId": "d9a886ab-c3be-47db-f4be-b9e59a91bcee"
   },
   "outputs": [
    {
     "name": "stdout",
     "output_type": "stream",
     "text": [
      "Concatenated along dimension 0: torch.Size([4, 3])\n",
      "Concatenated along dimension 1: torch.Size([2, 6])\n",
      "Stacked tensor shape: torch.Size([2, 2, 3])\n"
     ]
    }
   ],
   "source": [
    "C1 = torch.rand(2, 3)\n",
    "C2 = torch.rand(2, 3)\n",
    "concatenated_dim0 =  torch.cat((C1,C2), dim=0)\n",
    "print('Concatenated along dimension 0:', concatenated_dim0.shape)\n",
    "\n",
    "concatenated_dim1 = torch.cat((C1,C2), dim=1)\n",
    "print('Concatenated along dimension 1:', concatenated_dim1.shape)\n",
    "\n",
    "stacked =  torch.stack((C1,C2), dim=0)\n",
    "print('Stacked tensor shape:', stacked.shape)\n"
   ]
  },
  {
   "cell_type": "markdown",
   "id": "kmKpP5xBCCgt",
   "metadata": {
    "id": "kmKpP5xBCCgt"
   },
   "source": [
    "**Explain the diffrence between concatinating and stacking here:Concatinating combines the tensors along a dimension, and both must be the same size in that dimension. The new tensor's specified dimension will be changed, and the other dimension will be the same. Stacking instead creates a new dimension with tensors of the same shape. The new tensor has one additional dimension in stacking where the number of dimensions stay the same in concatinating. **\n",
    "\n",
    "\n"
   ]
  },
  {
   "cell_type": "markdown",
   "id": "0d0ed971",
   "metadata": {
    "id": "0d0ed971"
   },
   "source": [
    "# <font color = 'dodgerred'>**Q10: Advanced Indexing and Slicing (1 Point)**\n",
    "\n",
    "1. Given a tensor `D` with shape (6, 6), extract elements that are greater than 0.5.\n",
    "2. Then, extract the second and fourth rows from `D`.\n",
    "3. Finally, extract a sub-tensor from the top-left 3x3 block."
   ]
  },
  {
   "cell_type": "code",
   "execution_count": 30,
   "id": "eHbcZjKP0lti",
   "metadata": {
    "colab": {
     "base_uri": "https://localhost:8080/"
    },
    "id": "eHbcZjKP0lti",
    "outputId": "df01c9ef-8935-4b63-8b88-790ae7768a5d"
   },
   "outputs": [
    {
     "name": "stdout",
     "output_type": "stream",
     "text": [
      "tensor([[0.6969, 0.0227, 0.2933, 0.5270, 0.7368, 0.8284],\n",
      "        [0.1185, 0.3364, 0.1835, 0.4000, 0.4484, 0.4796],\n",
      "        [0.6135, 0.5170, 0.7592, 0.8776, 0.5742, 0.7031],\n",
      "        [0.5666, 0.2176, 0.4897, 0.8534, 0.0738, 0.0548],\n",
      "        [0.9621, 0.1517, 0.7680, 0.3610, 0.6307, 0.3276],\n",
      "        [0.8784, 0.4230, 0.5985, 0.0338, 0.1062, 0.2552]])\n",
      "Elements greater than 0.5:\n",
      " tensor([0.6969, 0.5270, 0.7368, 0.8284, 0.6135, 0.5170, 0.7592, 0.8776, 0.5742,\n",
      "        0.7031, 0.5666, 0.8534, 0.9621, 0.7680, 0.6307, 0.8784, 0.5985])\n"
     ]
    }
   ],
   "source": [
    "D = torch.rand(6, 6)\n",
    "print(D)\n",
    "D_greater = D[D > 0.5]\n",
    "print('Elements greater than 0.5:\\n', D_greater)"
   ]
  },
  {
   "cell_type": "code",
   "execution_count": 31,
   "id": "df969523",
   "metadata": {
    "colab": {
     "base_uri": "https://localhost:8080/"
    },
    "id": "df969523",
    "outputId": "87a4c57e-1cb0-4e1e-b3d5-e7d6b711388d"
   },
   "outputs": [
    {
     "name": "stdout",
     "output_type": "stream",
     "text": [
      "\n",
      "Second and fourth rows:\n",
      " tensor([[0.1185, 0.3364, 0.1835, 0.4000, 0.4484, 0.4796],\n",
      "        [0.5666, 0.2176, 0.4897, 0.8534, 0.0738, 0.0548]])\n",
      "\n",
      "Top-left 3x3 block:\n",
      "  tensor([[0.6969, 0.0227, 0.2933],\n",
      "        [0.1185, 0.3364, 0.1835],\n",
      "        [0.6135, 0.5170, 0.7592]])\n"
     ]
    }
   ],
   "source": [
    "second_fourth_rows = D[[1,3],:]\n",
    "print('\\nSecond and fourth rows:\\n', second_fourth_rows)\n",
    "\n",
    "top_left_3x3 =  D[:3, :3]\n",
    "print('\\nTop-left 3x3 block:\\n ', top_left_3x3)"
   ]
  },
  {
   "cell_type": "markdown",
   "id": "c081cf3b",
   "metadata": {
    "id": "c081cf3b"
   },
   "source": [
    "# <font color = 'dodgerred'>**Q11: Tensor Mathematical Operations (1 Point)**\n",
    "\n",
    "1. Create a tensor `G` with values from 0 to π in steps of π/4.\n",
    "2. Compute and print the sine, cosine, and tangent logarithm and the exponential of `G`."
   ]
  },
  {
   "cell_type": "code",
   "execution_count": 32,
   "id": "4c22b354",
   "metadata": {
    "colab": {
     "base_uri": "https://localhost:8080/"
    },
    "id": "4c22b354",
    "outputId": "de07597d-bdb1-4e93-eb04-206b492590ec"
   },
   "outputs": [
    {
     "name": "stdout",
     "output_type": "stream",
     "text": [
      "G: tensor([0.0000, 0.7854, 1.5708, 2.3562])\n",
      "Sine of G: tensor([0.0000, 0.7071, 1.0000, 0.7071])\n",
      "Cosine of G: tensor([ 1.0000e+00,  7.0711e-01, -4.3711e-08, -7.0711e-01])\n",
      "Tangent of G: tensor([ 1.0000e+00,  7.0711e-01, -4.3711e-08, -7.0711e-01])\n",
      "Natural logarithm of G: tensor([   -inf, -0.2416,  0.4516,  0.8570])\n",
      "Exponential of G: tensor([ 1.0000,  2.1933,  4.8105, 10.5507])\n"
     ]
    }
   ],
   "source": [
    "G = torch.arange(0, torch.pi, (torch.pi / 4))\n",
    "print('G:', G)\n",
    "print('Sine of G:',  torch.sin(G))\n",
    "print('Cosine of G:',  torch.cos(G))\n",
    "print('Tangent of G:',  torch.cos(G))\n",
    "print('Natural logarithm of G:', torch.log(G))\n",
    "print('Exponential of G:',  torch.exp(G))"
   ]
  },
  {
   "cell_type": "markdown",
   "id": "629eb94b",
   "metadata": {
    "id": "629eb94b"
   },
   "source": [
    "# <font color = 'dodgerred'>Q12: **Tensor Reduction Operations (1 Point)**\n",
    "\n",
    "1. Create a 3x2 tensor `H`.\n",
    "2. Compute the sum of `H`. Print the result and shape after taking sun.\n",
    "3. Then, perform the same operations along dimension 0 and dimension 1, printing the results and shapes.\n",
    "4. What do you observe? How the shape changes?"
   ]
  },
  {
   "cell_type": "code",
   "execution_count": 33,
   "id": "zgQXcz7COJmH",
   "metadata": {
    "colab": {
     "base_uri": "https://localhost:8080/"
    },
    "id": "zgQXcz7COJmH",
    "outputId": "4c862329-aa44-4b58-81e2-6308028d4dfd"
   },
   "outputs": [
    {
     "name": "stdout",
     "output_type": "stream",
     "text": [
      "H: tensor([[0.9703, 0.2565],\n",
      "        [0.7345, 0.7063],\n",
      "        [0.4371, 0.7486]])\n",
      "\n",
      "Shape of original Tensor H torch.Size([3, 2])\n",
      "\n",
      "Sum of H: tensor(3.8533)\n",
      "Shape after Sum of H: torch.Size([])\n",
      "\n",
      "Sum of H along dimension 0: tensor([[2.1419, 1.7114]])\n",
      "Shape after sum of H along dimension 0: torch.Size([1, 2])\n",
      "\n",
      "Sum of H along dimension 1: tensor([[1.2268],\n",
      "        [1.4408],\n",
      "        [1.1857]])\n",
      "Shape after sum of H along dimension 1: torch.Size([3, 1])\n"
     ]
    }
   ],
   "source": [
    "H = torch.rand(3, 2)\n",
    "print('H:', H, end = \"\\n\\n\")\n",
    "print('Shape of original Tensor H', H.shape, end = \"\\n\\n\")\n",
    "\n",
    "sum_H = H.sum()\n",
    "print('Sum of H:', sum_H)\n",
    "print('Shape after Sum of H:',  sum_H.shape,  end = \"\\n\\n\")\n",
    "\n",
    "sum_H0 = H.sum(axis=0, keepdim=True)\n",
    "print('Sum of H along dimension 0:', sum_H0)\n",
    "print('Shape after sum of H along dimension 0:', sum_H0.shape,  end = \"\\n\\n\")\n",
    "\n",
    "sum_H1 = H.sum(axis=1, keepdim=True)\n",
    "print('Sum of H along dimension 1:', sum_H1)\n",
    "print('Shape after sum of H along dimension 1:', sum_H1.shape)"
   ]
  },
  {
   "cell_type": "markdown",
   "id": "hfmDz2OLb8M2",
   "metadata": {
    "id": "hfmDz2OLb8M2"
   },
   "source": [
    "**Provide your observations on shape changes here: the H.sum() function takes the sum of the entire tensor which produces only 1 number. This is a scalar output which is represented by the torch.Size([]). It is empty since it is only 1 number. Computing the sum along dimension 0 means we are computing the sum along the rows. It has the size of [1,2] since there are 2 columns in the tensor. When we sum along axis 1, we sum along the columns, which is why the tensor has the size of [3,1], since there are 3 rows in the tensor. These are 2 dimensional tensors since keepdim=True.**\n",
    "\n"
   ]
  },
  {
   "cell_type": "markdown",
   "id": "4a156a3a",
   "metadata": {
    "id": "4a156a3a"
   },
   "source": [
    "# <font color = 'dodgerred'>**Q13: Working with Tensor Data Types (1 Point)**\n",
    "\n",
    "1. Create a tensor `I` of data type float with values `[1.0, 2.0, 3.0]`.\n",
    "2. Convert `I` to data type int and print the result.\n",
    "3. Explain in which scenarios it's necessary to be cautious about the data type of tensors."
   ]
  },
  {
   "cell_type": "code",
   "execution_count": 34,
   "id": "af427555",
   "metadata": {
    "colab": {
     "base_uri": "https://localhost:8080/"
    },
    "id": "af427555",
    "outputId": "6a6d8376-8138-4911-ec61-46b3c41f528c"
   },
   "outputs": [
    {
     "name": "stdout",
     "output_type": "stream",
     "text": [
      "I: tensor([1., 2., 3.])\n",
      "I converted to int: tensor([1, 2, 3], dtype=torch.int32)\n"
     ]
    }
   ],
   "source": [
    "# Solution for Q16\n",
    "I =  torch.tensor([1.0,2.0,3.0], dtype = torch.float32)\n",
    "print('I:', I)\n",
    "I_int =  I.to(dtype=torch.int32)\n",
    "print('I converted to int:', I_int)"
   ]
  },
  {
   "cell_type": "markdown",
   "id": "9yyx5WtweGNP",
   "metadata": {
    "id": "9yyx5WtweGNP"
   },
   "source": [
    "**Your explanations here: It is necessary to be catious about the data type of tensors when there is a concern about precision, compatibility, and loss of information. Float datatypes tend to be more precise, but that precision can result in unnecessary memory usage or computational efficiency if that precision doesn't offer any value. Converting from a Float to Integer datatype can result in loss of information if the precision was necessary. It is also important to consider when combining tensors**\n",
    "\n"
   ]
  },
  {
   "cell_type": "markdown",
   "id": "2TU6l0nC3EfW",
   "metadata": {
    "id": "2TU6l0nC3EfW"
   },
   "source": [
    "# <font color = 'dodgerred'>**Q14. Speedtest for vectorization 1.5 Points** </font>\n",
    "\n",
    "Your goal is to measure the speed of linear algebra operations for different levels of vectorization.\n",
    "\n",
    "1. Construct two matrices $A$ and $B$ with Gaussian random entries of size $1024 \\times 1024$.\n",
    "1. Compute $C = A B$ using matrix-matrix operations and report the time. (Hint: Use torch.mm)\n",
    "1. Compute $C = A B$, treating $A$ as a matrix but computing the result for each column of $B$ one at a time. Report the time. (hint use torch.mv inside a for loop)\n",
    "1. Compute $C = A B$, treating $A$ and $B$ as collections of vectors. Report the time. (Hint: use torch.dot inside nested for loop)"
   ]
  },
  {
   "cell_type": "code",
   "execution_count": 35,
   "id": "wkKjtX0HH2wz",
   "metadata": {
    "id": "wkKjtX0HH2wz"
   },
   "outputs": [],
   "source": [
    "## Solution 1\n",
    "torch.manual_seed(42) # do not change this\n",
    "A = torch.randn(1024, 1024)\n",
    "B = torch.randn(1024, 1024)"
   ]
  },
  {
   "cell_type": "code",
   "execution_count": 36,
   "id": "kSMH_j5OD2ZB",
   "metadata": {
    "colab": {
     "base_uri": "https://localhost:8080/"
    },
    "id": "kSMH_j5OD2ZB",
    "outputId": "ac59bc90-6c0d-420e-b0ac-7040df50245e"
   },
   "outputs": [
    {
     "name": "stdout",
     "output_type": "stream",
     "text": [
      "Matrix by matrix: 0.03879356384277344 seconds\n"
     ]
    }
   ],
   "source": [
    "## Solution 2\n",
    "start = time.time()\n",
    "C_mm = torch.mm(A, B)\n",
    "\n",
    "print(\"Matrix by matrix: \" + str(time.time()-start) + \" seconds\")"
   ]
  },
  {
   "cell_type": "code",
   "execution_count": 37,
   "id": "-tU8yGBP-Crk",
   "metadata": {
    "colab": {
     "base_uri": "https://localhost:8080/"
    },
    "id": "-tU8yGBP-Crk",
    "outputId": "b5f78648-ee27-4821-e745-734aa5bb6057"
   },
   "outputs": [
    {
     "name": "stdout",
     "output_type": "stream",
     "text": [
      "Matrix by vector: 0.2741551399230957 seconds\n"
     ]
    }
   ],
   "source": [
    "## Solution 3\n",
    "C_mv = torch.empty(1024,1024)\n",
    "start = time.time()\n",
    "for i in range(B.shape[1]):\n",
    "    C_mv[:, i] = torch.mv(A, B[:, i])\n",
    "\n",
    "print(\"Matrix by vector: \" + str(time.time()-start) + \" seconds\")"
   ]
  },
  {
   "cell_type": "code",
   "execution_count": 38,
   "id": "MFgJCFf6DUFK",
   "metadata": {
    "colab": {
     "base_uri": "https://localhost:8080/"
    },
    "id": "MFgJCFf6DUFK",
    "outputId": "816db1e7-9a9a-401e-f52f-98add2248d29"
   },
   "outputs": [
    {
     "name": "stdout",
     "output_type": "stream",
     "text": [
      "vector by vector: 51.97236132621765 seconds\n"
     ]
    }
   ],
   "source": [
    "## Solution 4\n",
    "C_dot = torch.empty(1024,1024)\n",
    "start = time.time()\n",
    "for i in range(A.shape[1]):\n",
    "    for j in range(B.shape[1]):\n",
    "        C_dot[i, j] = torch.dot(A[:, i], B[:, j])\n",
    "\n",
    "print(\"vector by vector: \" + str(time.time()-start) + \" seconds\")"
   ]
  },
  {
   "cell_type": "markdown",
   "id": "TtYsJM4mJNdE",
   "metadata": {
    "id": "TtYsJM4mJNdE"
   },
   "source": [
    "# <font color = 'dodgerred'>**Q15 : Redo Question 14 by using GPU - 1.5 Points**"
   ]
  },
  {
   "cell_type": "markdown",
   "id": "fxJ1UlTf3Efb",
   "metadata": {
    "id": "fxJ1UlTf3Efb"
   },
   "source": [
    "<font size = 4, color = 'dodgerred'> **Using GPUs**\n",
    "\n",
    "How to use GPUs in Google Colab<br>\n",
    "In Google Colab -- Go to Runtime Tab at top -- select change runtime type -- for hardware accelartor choose GPU"
   ]
  },
  {
   "cell_type": "code",
   "execution_count": 39,
   "id": "_6ilpofMIe1e",
   "metadata": {
    "colab": {
     "base_uri": "https://localhost:8080/"
    },
    "id": "_6ilpofMIe1e",
    "outputId": "46382ceb-6b9a-4e69-baee-61ec81030df0"
   },
   "outputs": [
    {
     "name": "stdout",
     "output_type": "stream",
     "text": [
      "cuda:0\n"
     ]
    }
   ],
   "source": [
    "# Check if GPU is availaible\n",
    "device = torch.device('cuda:0' if torch.cuda.is_available() else 'cpu')\n",
    "print(device)"
   ]
  },
  {
   "cell_type": "code",
   "execution_count": 40,
   "id": "4XMhjifbJcu0",
   "metadata": {
    "id": "4XMhjifbJcu0"
   },
   "outputs": [],
   "source": [
    "## Solution 1\n",
    "torch.manual_seed(42)\n",
    "A= torch.randn((1024, 1024),device=device)\n",
    "B= torch.randn((1024, 1024),device=device)"
   ]
  },
  {
   "cell_type": "code",
   "execution_count": 41,
   "id": "pn-ZKI7sK9Oh",
   "metadata": {
    "colab": {
     "base_uri": "https://localhost:8080/"
    },
    "id": "pn-ZKI7sK9Oh",
    "outputId": "e3fbfa49-0be0-4fda-e8dc-68ca7be3d7ef"
   },
   "outputs": [
    {
     "name": "stdout",
     "output_type": "stream",
     "text": [
      "Matrix by matrix: 0.12314510345458984 seconds\n"
     ]
    }
   ],
   "source": [
    "## Solution 2\n",
    "start=time.time()\n",
    "\n",
    "C_mm = torch.mm(A, B)\n",
    "C_mm_cpu = C_mm.to(\"cpu\")\n",
    "\n",
    "print(\"Matrix by matrix: \" + str(time.time()-start) + \" seconds\")"
   ]
  },
  {
   "cell_type": "code",
   "execution_count": 42,
   "id": "GcHPGEitLL8i",
   "metadata": {
    "colab": {
     "base_uri": "https://localhost:8080/"
    },
    "id": "GcHPGEitLL8i",
    "outputId": "0f42d8f5-806f-44ab-82d6-ca1666650843"
   },
   "outputs": [
    {
     "name": "stdout",
     "output_type": "stream",
     "text": [
      "Matrix by vector: 0.15293192863464355 seconds\n"
     ]
    }
   ],
   "source": [
    "## Solution 3\n",
    "C= torch.empty(1024,1024, device = device)\n",
    "start = time.time()\n",
    "\n",
    "for i in range(B.shape[1]):\n",
    "    C_mv[:, i] = torch.mv(A, B[:, i])\n",
    "C_mv_cpu = C_mv.to(\"cpu\")\n",
    "\n",
    "print(\"Matrix by vector: \" + str(time.time()-start) + \" seconds\")"
   ]
  },
  {
   "cell_type": "code",
   "execution_count": 43,
   "id": "wZ5LWSa2Lrdw",
   "metadata": {
    "colab": {
     "base_uri": "https://localhost:8080/"
    },
    "id": "wZ5LWSa2Lrdw",
    "outputId": "36aa873c-6536-46aa-ed2c-1a006d28b69a"
   },
   "outputs": [
    {
     "name": "stdout",
     "output_type": "stream",
     "text": [
      "vector by vector: 43.86833739280701 seconds\n"
     ]
    }
   ],
   "source": [
    "## Solution 4\n",
    "C = torch.empty(1024,1024, device = device)\n",
    "start = time.time()\n",
    "\n",
    "for i in range(A.shape[1]):\n",
    "    for j in range(B.shape[1]):\n",
    "        C[i, j] = torch.dot(A[:, i], B[:, j])\n",
    "C_vv_cpu = C.to(\"cpu\")\n",
    "\n",
    "print(\"vector by vector: \" + str(time.time()-start) + \" seconds\")"
   ]
  }
 ],
 "metadata": {
  "accelerator": "GPU",
  "colab": {
   "collapsed_sections": [
    "Q4vVUgxxDJD0",
    "2Voz6l5RUZRh",
    "6Eoa6rF80ZTa",
    "uSj20OEuf6bf",
    "cc32848b",
    "f57bb1a4",
    "e1f2667e",
    "fe24a961",
    "1d5c7b62"
   ],
   "gpuType": "T4",
   "machine_shape": "hm",
   "provenance": []
  },
  "kernelspec": {
   "display_name": "Python 3 (ipykernel)",
   "language": "python",
   "name": "python3"
  },
  "language_info": {
   "codemirror_mode": {
    "name": "ipython",
    "version": 3
   },
   "file_extension": ".py",
   "mimetype": "text/x-python",
   "name": "python",
   "nbconvert_exporter": "python",
   "pygments_lexer": "ipython3",
   "version": "3.9.13"
  }
 },
 "nbformat": 4,
 "nbformat_minor": 5
}
